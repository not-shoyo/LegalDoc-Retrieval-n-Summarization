{
 "cells": [
  {
   "cell_type": "code",
   "execution_count": 22,
   "metadata": {},
   "outputs": [
    {
     "name": "stdout",
     "output_type": "stream",
     "text": [
      "Defaulting to user installation because normal site-packages is not writeable\n",
      "Requirement already satisfied: pandas in /home/akheel/.local/lib/python3.10/site-packages (2.1.1)\n",
      "Requirement already satisfied: python-dateutil>=2.8.2 in /home/akheel/.local/lib/python3.10/site-packages (from pandas) (2.8.2)\n",
      "Requirement already satisfied: tzdata>=2022.1 in /home/akheel/.local/lib/python3.10/site-packages (from pandas) (2023.3)\n",
      "Requirement already satisfied: numpy>=1.22.4 in /home/akheel/.local/lib/python3.10/site-packages (from pandas) (1.26.0)\n",
      "Requirement already satisfied: pytz>=2020.1 in /usr/lib/python3/dist-packages (from pandas) (2022.1)\n",
      "Requirement already satisfied: six>=1.5 in /usr/lib/python3/dist-packages (from python-dateutil>=2.8.2->pandas) (1.16.0)\n",
      "Note: you may need to restart the kernel to use updated packages.\n"
     ]
    }
   ],
   "source": [
    "%pip install pandas"
   ]
  },
  {
   "cell_type": "code",
   "execution_count": 23,
   "metadata": {},
   "outputs": [
    {
     "data": {
      "text/html": [
       "<div>\n",
       "<style scoped>\n",
       "    .dataframe tbody tr th:only-of-type {\n",
       "        vertical-align: middle;\n",
       "    }\n",
       "\n",
       "    .dataframe tbody tr th {\n",
       "        vertical-align: top;\n",
       "    }\n",
       "\n",
       "    .dataframe thead th {\n",
       "        text-align: right;\n",
       "    }\n",
       "</style>\n",
       "<table border=\"1\" class=\"dataframe\">\n",
       "  <thead>\n",
       "    <tr style=\"text-align: right;\">\n",
       "      <th></th>\n",
       "      <th>Document_Name</th>\n",
       "    </tr>\n",
       "  </thead>\n",
       "  <tbody>\n",
       "    <tr>\n",
       "      <th>0</th>\n",
       "      <td>C982.txt</td>\n",
       "    </tr>\n",
       "    <tr>\n",
       "      <th>1</th>\n",
       "      <td>C983.txt</td>\n",
       "    </tr>\n",
       "    <tr>\n",
       "      <th>2</th>\n",
       "      <td>C984.txt</td>\n",
       "    </tr>\n",
       "    <tr>\n",
       "      <th>3</th>\n",
       "      <td>C985.txt</td>\n",
       "    </tr>\n",
       "    <tr>\n",
       "      <th>4</th>\n",
       "      <td>C986.txt</td>\n",
       "    </tr>\n",
       "  </tbody>\n",
       "</table>\n",
       "</div>"
      ],
      "text/plain": [
       "  Document_Name\n",
       "0      C982.txt\n",
       "1      C983.txt\n",
       "2      C984.txt\n",
       "3      C985.txt\n",
       "4      C986.txt"
      ]
     },
     "execution_count": 23,
     "metadata": {},
     "output_type": "execute_result"
    }
   ],
   "source": [
    "import glob\n",
    "import csv\n",
    "import os\n",
    "import pandas as pd\n",
    "\n",
    "input_case_files = glob.glob('../All_Data/AILA_2019_dataset/Object_casedocs/*')\n",
    "\n",
    "with open(\"../All_Data/Generated_Data/all_input_docs_one_per_line.csv\", \"w\") as all_documents_per_line:\n",
    "    w = csv.writer(all_documents_per_line)\n",
    "    for f in input_case_files:\n",
    "        with open(f, \"r\") as infile:\n",
    "            w.writerow([\" \".join([line.strip() for line in infile])])\n",
    "\n",
    "lst_arr = os.listdir('../All_Data/AILA_2019_dataset/Object_casedocs/')\n",
    "filenames_df = pd.DataFrame(lst_arr, columns = ['Document_Name'])\n",
    "filenames_df.head()\n"
   ]
  },
  {
   "cell_type": "code",
   "execution_count": 24,
   "metadata": {},
   "outputs": [
    {
     "name": "stdout",
     "output_type": "stream",
     "text": [
      "\"Madan Mohan Choudhary v State of Bihar and Others Supreme Court of India  12 February 1999 Civil Appeal No. 787 of 1990 The Judgment was delivered by : S. Saghir Ahmad, J. Leave granted. 1.  The recommendation of the High Court on the basis of which the appellant, who held the rank of Addl. District and Sessions Judge, was compulsorily retired from service, exhibits the tragic fact that the highest judicial body of the State which abhors anything done contrary to the rule of law or done in a whimsical manner or arbitrarily, can itself act in that manner on the administrative side. Still, the plea that High Court Judges suffer from 'split personality' cannot be accepted for the pleasant fact that though on the administrative side they might have had acted as ordinary bureaucrat, once they don the robes they forget all their previous associations and connections. The transformation is so complete and real that even though they themselves were part of the decision making process, they quash their own administrative decisions in exercise of their power of judicial review and thus maintain the majesty and independence of the Indian judiciary in which the people have always reposed tremendous faith. In the instant case, however, the order of compulsory retirement dated 2.8.1997 passerby the State Government on the High Court's recommendation has been upheld and it has fallen to our lot, in this appeal, to scrutinize the validity of this order. Before coming to the merits of the case, we may scan the service record of the appellant who joined the Judicial Service as Temporary Munsif on 15.5.1975. He was confirmed on that post on 8.2.1980 and was promoted to the rank of Sub-Judge with effect from 16.5.1985.He was confirmed as Sub-Judge on 19.1.1988. The appellant was promoted to the Superior Judicial Service in 1991 and was put to officiate as Addl. District & Sessions Judge with effect from 15.7.1991. He was not, till the date of his compulsory retirement, confirmed on that post. The character roll entries, as recorded by District Judges, under whom the appellant had worked, are as set out below:- \"\"1975-76 (Distt Muzaffarpur) -Quality of work satisfactory and quantity capable of improvement. Relation with Bar satisfactory. 1976-77 (Distt. Muzaffarpur) - Quality of work satisfactory and quantity fair. Relation with Bar fair. 1977-78 (Distt. Gaya) - He is intelligent. His Judgments are of average quality. Outturn is satisfactory. 1978-79 - No remarks. 1979-80 (Distt. Munger) - On the whole his work and conduct is average. Relationship with the members of the Bar and the Judicial Officers has been satisfactory. He is laborious and painstaking. 1980-81 -No remarks. 1981-82 (Distt. Palamau) - Intelligent and hard working. Writes good Judgments. Enjoys good relation of integrity. 1982-83 (Distt. Palamau) -Carries a good reputation regarding his integrity. 1983-84 (Distt. Palamau) - Shaping well as a Judicial Officer. 1984-85 (Distt. Hazaribagh) - He has satisfactory knowledge of law and procedure. He is industrious and prompt in disposal of cases. He is an efficient Officer. He has maintained a reputation for honesty and impartiality. An average Officer. Relation with Bar, colleagues and staff cordial. 1985-86 (Distt. Aurangabad) - Knowledge of law and procedure satisfactory. He is industrious and prompt in the disposal of cases. He is an efficient Officer. He has maintained a reputation for honesty and impartiality during the period. As in charge of the Nazarat and Account he requires to exercise more effective control. Satisfactory. Maintains good relation with the other Judicial Officers and the Bar. 1986-87 (Distt. Aurangabad) - Knowledge of law and procedure is satisfactory. He is industrious and prompt in the disposal of cases. Disposal of the cases is satisfactory. He is an efficient Officer. He writes well-discussed judgments & orders, both Civil and Criminal. He enjoys good reputation as an honest & impartial Officer. Good. He maintains cordial relation with other judicial Officer & Bar. 1987-88 (Distt. Aurangabad) - Knowledge of law and procedure satisfactory. He is industrious and prompt in the disposal of the cases. Disposal satisfactory. He is an efficient Officer. None made any complaint regarding his honesty and impartiality. He enjoys good reputation with respect to his integrity and laborious. Defects, if any:- No. Good. He maintains cordial relation with judicial Officers and Bar. 1988-89 (Distt. Aurangabad) -His knowledge of law and procedure is satisfactory. He is industrious, an efficient Officer and prompt in the disposal of cases. He enjoys good reputation as an honest and impartial Officer. He is fit for appointment as C.J.M.Defects - Nil. Good. He maintains cordial relation with other judicial Officer, staff and Bar. 1989-90 (Distt. Begusarai) - Knowledge of law and procedure satisfactory. He is industrious and prompt in the disposal of cases. His supervision of distribution of business among and his control over the subordinate Courts good. He is an efficient Officer. He has maintained a reputation for honesty and impartiality. Defects, if any - No. Very frequently he loses his temper in the court but he writes good judgment and order. 1990-91 (Distt. Begusarai) - Very sound knowledge of law and procedure. He is industrious and prompt in the disposal of cases. His supervision of the distribution of business among and his control over the subordinate Court good. He is an efficient officer. He enjoys confidence of Bar and litigants. He is a very good officer. Has grip and control over office and Subordinates. Relationship with Bar and Officers cordial.\"\" 2.  Categorisation made by the Inspecting Judges of the High Court are as follows: \"\"1984 - B (average) by Hon'ble Abhiram Singh 1987 - B (satisfactory)by Hon'ble R.C.P. Sinha 1988 - Good by Hon'ble S.Roy 1990 - B Plus by Hon'ble B.K. Roy\"\" 3.  On 14th of November, 1995 while working as District & Sessions Judge In charge, Madhubani, the appellant granted anticipatory bail to certain accused in a case under Section 307 IPC. The bail order was challenged in the High Court in Criminal Miscellaneous Case No.18207 of 1995 which came up before a learned Judge of the High Court who passed the following order on 26.3.1996:- \"\"The allegations as against opposite parties no.2 and 3 appear to be more serious than against the rest, although notice was issued to all the opposite parties, it appears from the service report that the notice is deemed to have been validly served as the concerned opposite parties refused to grant the receipt. In my opinion, the petitioner should take fresh steps for service of notice against opposite ies no.2 and 3 alone\"\". 4.  Let requisites etc. under registered cover with A/D be filed by Monday (1.4.1996), failing which this application, as against the concerned opposite parties, shall stand rejected without further reference to a Bench. 5.  In the meantime, the office is directed to put up this matter on Administrative side so that the conduct of the Officer, who granted anticipatory bail, may be examined. The office will also disclose the name of the Sessions Judge I/C, who passed the order on 14.11.1995. 6.  This case was finally disposed of by the same learned Judge on 22.7.1996 and the anticipatory bail, granted to two of the accused, was set aside. This order contains, inter alia, the following observations:- \"\"From the order of the Sessions Judge in charge it appears that he took into account the fact that with respect to the occurrence a counter case had also been instituted and, therefore, 'the chances of false implication cannot be ruled out.' Considering the fact that two persons on the side of the prosecution had sustained grievous injuries on vital parts of the body, I am unable to understand the logic. Even if there was a counter version of the occurrence, the court below should have considered the manner of occurrence and the fact that the prosecution party had sustained grievous injuries which cannot be said to be manufactured or self- inflicted, before coming to the final conclusion. Such a consideration was all the more necessary because the opposite party were seeking the privilege of pre-arrest bail. It does not give correct message to the public if persons accused of causing grievous injuries on vital parts of the body do not even surrender to custody and are granted anticipatory bail. Even if in the matter of cancellation of bail, the court should not make distinction between the anticipatory bail and regular bail; nevertheless if the superior court find that the exercise of discretion itself was not proper, subverting the people's faith in the administration of criminal justice, it is its duty to intervene and set aright the wrong. Besides, as stated above, there are also allegations that the opposite party have been holding out threats to the petitioner, his family members and the prosecution witnesses and the attitude of the police is not helpful\"\". (Emphasis Supplied) 7.  In pursuance of the direction issued by the learned Judge, the office put up a note which was considered by the Standing Committee on 6.11.1996 and the following Resolution was adopted:- \"\"Agenda Decision To consider the Order dated Having Considered the 26.3.96 passed in Crl. Misc. office notes concerning Case No. 18207/95 against the officer. the Sessions Judge I/C, Madhubani. (XIX-32-96). It is resolved that the office shall put up necessary notes for the compulsory up necessary notes for the compulsory retirement of Sh. Madan Mohan Choudhary Addl Sessions Judge, Madhubani, under Rule 74 of the Bihar Service Code\"\". 8.  The office, thereafter, prepared the necessary note for compulsory retirement of the appellant under Rule 74 of the Bihar Service Code. This note was considered by the Standing Committee in its meeting held on 21.11.1996 and the following Resolution was adopted:- To consider the desirability Having considered of taking action under Rule the entire service 74 of the Bihar Service Code records of each of against a few officers of the following 4 Subordinate Judiciary. officers: (XIX-31-96) 1. Sh. Madan Mohan Choudhary, Addl. Distt. & Sess. Judge, Madhubani. It is resolved that it is not in the public interest to retain their services any longer and they should, therefore, be retired compulsorily from service under Rule 74(b)(ii) of the Bihar Service Code. The above decision be placed meeting before the of the Full Court, scheduled to be held on 30th November, 1996 as per Rule 3(x) of Chapter-I Part-Iof the Rules of the High Court at Patna instead of getting it circulated\"\". 9.  A Full Court meeting was convened on 30.11.1996 and the Resolution of the Standing above) were approved. The relevant extract of the Committee (extracted minutes of the Full Court meeting is reproduced below:- \"\"Item No.7:-To consider the decision of the Standing Committee regarding compulsory retirement of Judicial Officers under Rule 74 of the Bihar Service Code, 1952. The decision of the Standing Committee meeting dated 21.11.96 regarding compulsory retirement of the following Judicial Officers under Rule 74(b) of the Bihar Service Code, is considered by the Full Court and the same is approved. 1. Sri Madan Mohan Choudhary, Addl. Distt. & Sessions Judge, Madhubani. The State Government may be requested to give three months pay in advance to the aforesaid officers recommended for compulsory retirement in lieu of three months notice to be given to them. It is further resolved that the District & Sessions Judges concerned be directed to relieve the aforesaid officers of all their Judicial works\"\". 10.  The State Government, acting on the recommendation of the High Court, compulsorily retired the appellant from service by order dated 2.8.1997. 11.  It may be mentioned that there were no remarks given by the High Court to the appellant in his character roll for the years 1991-92, 1992-93 and 1993- 94 but these remarks were given all at one time and he was categorised as \"\"c\"\" Grade Officer. Regarding these remark s, the opposite parties in the counter affidavit say as under: \"\"Thereafter, the petitioner was awarded Grade 'C' in his C.R. for 3 years consecutively and 3 the assessment of petitioner's C. R. for years at one go is not a solitary case but the same practice was followed in the case of all the Judicial Officers. The placing of petitioner in Grade 'C' category means below average which was communicated to him by the Registrar General by letter No.9560 dated 29.11.1996\"\". 12.  When these remarks were communicated to the appellant on 29.11.1996, he filed a representation on 20.2.1997 before the High Court and prayed that his categorisation as \"\"C\"\" Grade Officer may be set aside. This representation was rejected by the High Court on 12.12.1997. 13.  The order of compulsory retirement, as pointed out above, was challenged before the High Court in a Writ Petition filed under Article 226 of the Constitution but the pleas raised by the appellant were turned down and the Writ Petition was dismissed. 14.  Learned counsel for the appellant has contended that the appellant was an honest, hardworking and sincere officer who had not, at any time, been given any adverse remark and his integrity, at no stage, was ever doubted. It is contended that an order passed by him on the judicial side by which bail was granted to certain accused in a case under Section 307 IPC specially when there was a cross case also, could not be made the basis of an order of compulsory retirement. It is also contended that there was no material on the basis of which the High Court could recommend compulsory retirement. The whole decision making process, it is claimed, was conducted in an arbitrary manner. 15.  Learned counsel appearing on behalf of the High Court as also the State of Bihar have contended that the High Court having resolved to vehemently had compulsorily retire the taken a bonafide decision on an overall assessment of appellant in the work and conduct of the appellant and, therefore, public it was not open to judicial scrutiny. 16.  We may, at this stage, consider the role of the High Courts in the matter of State Judicial Services. 17.  The Indian Constitution provides for an independent judiciary in every State by making provision for high Court being constituted for each State. the Constitution has conferred very wide powers and extensive jurisdiction on each High Court, including the power of superintendence over all the courts and tribunals in the territory over which it has jurisdiction. Undoubtedly, one of the most important wings of the judiciary comprises of the subordinate courts as it is in these courts that the judiciary comes in close contact with the people. In order to secure the independence of the subordinate judiciary from the Executive, Articles 233 to 237 have been placed in the Constitution. Article 233 deals with the appointment of District Judges and provides that appointments, posting and promotions of District Judges in any State shall be made by the Governor in consultation with the High Court, exercising jurisdiction in relation to such State. The word \"\"District Judge\"\" has been defined in Article 236(a) as under:- \"\"The expression \"\"district judge\"\" includes judge of a city civil Court, additional district judge, joint district judge, assistant district judge, chief judge of a small cause Court, chief presidency magistrate, additional chief presidency magistrate, sessions judge, additional sessions judge and assistant session judge\"\". 18.  The expression \"\"judicial service\"\" has been define clause (b) of Article 236 which is reproduced below:- \"\"The expression \"\"judicial service\"\" means a service consisting exclusively of persons intended to fill the post of district judge and other civil judicial posts inferior to the post of district judge\"\". Article 234 provides as under:- \"\"234. Recruitment of persons other district judges to the judicial service.- Appointments of persons other than district judges to the judicial service of a State shall be made by the Governor of the State in accordance with rules made by him in that behalf after consultation with the State Public Service Commission and with the High Court exercising jurisdiction in relation to such State\"\". 19.  Article 237 gives power to the Governor to apply, by public Notification, the provisions of this Chapter and the Rules made there under to any class or classes of Magistrates. Once such a Notification is issued, the provisions of Articles 234,235 and 236will become applicable to those Magistrates and they would become members of the 'judicial service' under the control of the High Court. 20.  In order to ensure their independence, the control over the subordinate courts has been vested in the High Court under Article 235 which provides as under: \"\"Control over subordinate Courts -- The control over district Courts and Courts subordinate thereto including the posting and promotion of, and the grant of leave to, persons belonging to the judicial service of a State and holding any post inferior to the post of district judge shall be vested in the High Court, but nothing in this article shall be construed as taking away from any such person any right of appeal which he may have under the law regulating the conditions of his service or as authorising the High Court to deal with him otherwise than in accordance with the conditions of his service prescribed under such law.\"\" 21.  Under this Article, the High Court's control over the subordinate judiciary is comprehensive and over a variety of matters, including and grant of leave. The three words, namely, \"\"posting\"\", posting, promotion \"\"promotion\"\" and \"\"grant of leave\"\", used in this Article, are only illustrative in character and do not limit the extent of control exercised by the High Court over the officers of the subordinate judiciary. 22.  It is now well-settled by a catena of decisions (See, for example, Mohammad Ghouse vs. State of Andhra, AIR 1957 SC 246 = 1957 SCR 414 1956 Indlaw SC 61 and Chief Justice of Andhra Pradesh vs. L.V.A. Dikshitulu, AIR 1979 SC 193= 1979 (1) SCR 26 = (1979)3 SCC 34 1978 Indlaw SC 498) that the expression \"\"control\"\", in Article 235 of the Constitution, includes \"\"Disciplinary Control\"\". 23.  Transfers, promotions and confirmations including transfer of District Judges or the recall of District Judges posted on excad repost or on deputation or on administrative post etc. etc. is also within the administrative control of the High Court. So also premature and compulsory retirement is also within the \"\"control\"\" of the High Court. 24.  From the scheme of the Constitution, as set out above, it will be seen that though the officers of subordinate judiciary are basically and essentially Government servants, their whole service is placed under the control of the High Court and the Governor cannot make any appointment or take any disciplinary action including action for removal or compulsory retirement unless the High Court is \"\"CONSULTED\"\" as required by the Constitutional impact of both the Articles 233 and 234 and the \"\"control\"\" of the High Court indicated in Article 235. 25.  The word \"\"consult\"\" in its \"\"to ask advice\"\" or \"\"to take counsel\"\". The Governor is ordinary meaning means thus a \"\"consultor\"\" and the High Court is the \"\"consultee\"\" which is treated as an expert body in all matters of action, service including appointments, disciplinary compulsory retirement etc. relating to State Judicial Services. Since the Governor cannot act on his own unless he has consulted the High Court, the Constitution has conferred upon the High Court a sacred and noble duty to give the best of advice or opinion to the Governor; an advice tendered after due deliberation and after taking into consideration all the relevant material and record relating to the problem on which consultation is made or advice is sought by the Governor. 26.  It is, therefore, essentially a matter of trust and confidence between the Governor and the High Court. The High Court cannot act arbitrarily in giving its opinion to the Governor or else it will be a betrayal of that trust. If the I advice is not supportable by any material on record and is arbitrary in character, it may not have any binding value. 27.  It has already been pointed out by this Court in Registrar, High Court of Madras vs. R. Rajiah, AIR 1988 SC 1388 = (1988) 3 SCC 211 = 1988 Supp. (1) SCR 332 1988 Indlaw SC 809that though the High Court, in its administrative jurisdiction, has the power to recommend compulsory retirement of a member of the Judicial Service in accordance with the rules framed in that regard, it cannot act arbitrarily and there has to be material to come to a decision that the officer has outlived his utility. It was also pointed out in this case that the High Court while exercising its power of control over the subordinate judiciary is under a constitutional obligation to guide and protect judicial officers from being harassed or annoyed by trifling complaints r elating to judicial orders so that the and Officers may discharge their duties honestly independently unconcerned by the ill-conceived or motivated complaints, made by unscrupulous lawyers and litigants. 28.  In M.M. Gupta vs. State of J and K, AIR 1982 SC 1579 1982 Indlaw SC 136 = normally, as a rule, the High Court's recommendations for the appointment of a District Judge should be accepted by the State Government and the Governor should act on the same. If in any particular case, the State Government for good and weighty reasons find it difficult to accept the recommendations, it should communicate its views to, and have complete and effective consultation with, the High Court. It was also pointed out that there can be no doubt that if the High Court is convinced that the Government's objection are for good reasons, it will undoubtedly reconsider its earlier recommendation. Efficient and proper judicial administration being the main object, both the High Court and the State Government must necessarily approach the question in a detached manner. 29.  Again in State of Kerala vs. A. Lakshmikutty, AIR 1987 SC 331 = 1987 (1) SCR 136 = (1986) 4 SCC 632 1986 Indlaw SC 207,this Court pointed out that the duty of the Governor to consult the High Court in the appointment of District Judges is integrated with the exercise of his power; he must exercise it in the manner provided by Article 233(1) or not at all. Normally, the High Court's recommendations have to be accepted by the State Government and the Governor has to act on the same but if the State Government for 'good and weighty reasons' cannot agree with the High Court, it should take the High Court into confidence and place before it difficulties in acting upon the recommendations. 30.  Let us now examine the merits of the case. The character roll entries, recorded by various District Judges, have already been reproduced by us in the earlier part of the Judgment. There marks given by the High Court on various occasions have also been set out above. It has also been found that there were no entries in the character roll of the appellant for the years 1991-92, 1992-93 and 1993-94. The entries for these years were recorded at one time simultaneously and the appellant was categorised as \"\"C\"\" Grade Officer. The expression used by the High Court in the counter affidavit, filed in this Court, in relation to the entries for the aforesaid three years is that they were recorded \"\"at one go\"\". And, we may add, the Officer was made to go! The date on which these entries were made is not indicated either in the original recorder in the counter affidavit filed by the respondents. 31.  These were communicated to the appellant on 29.11.1996 and were considered by the Full Court on 30.11.1996 but it is clear that these entries we rerecorded at a stage when the Standing Committee had already made up its mind to compulsorily retire the appellant from service as it had directed the office, on 06.11.1996, to put up a note for compulsory retirement of the appellant. The High Court should have considered that all entries prior to his promotion to Superior Judicial Service were not bad and his integrity either as a member of the Inferior Judicial Service or Superior Judicial Service was never doubted. The grant of anticipatory bail in a case under Section 307 IPC particularly when there was a cross case could not have been I legally made the basis of compulsory retirement in the particular circumstances of this case. Whatever might have been the feeling of learned Judge who entertained and ultimately allowed the petition for cancellation of bail granted appellant, the fact remains that it was an order passerby the on the judicial side in all bona fides. It may have been a wrong order but it was not a motivated order based on extraneous considerations. It was thus a case where there was no material on the basis of which an opinion could have been reasonably formed that it would be in the public interest to retire the appellant from service prematurely in terms of Rule 74 of the Bihar Service Code. 32.  The entries recorded \"\"at one go\"\" for the three years, namely, 1991-92, 1992-93 and 1993-94 could hardly have been taken into consideration. They were communicated to the appellant on 29.11.1996 and on the next day, namely, on 30.11.1996, the Full Court took the decision to retire him from service without giving any opportunity to him to make a representation which, however, he did make but had the mortification of seeing it rejected a year later in December, 1997. 33.  Learned counsel for the respondent contended that the entries for the aforesaid three years cannot be excluded on the ground that the appellant was not given the adequate chance to represent against those entries. He referred to a decision of a Three Judge Bench of this Court in Baikuntha Nath Das vs.Chief Distt. Medical Officer Baripada, JT 1992 (2) SC 1 = AIR 1992 SC 1020 = 1992 (1) SCR 836 = (1992) 2 SCC 299 1992 Indlaw SC 1228and contended that in view of the law laid down therein, the order of case, compulsory retirement, cannot be legally assailed particularly as the character passed in the roll entries which are not even communicated can be taken into consideration for purpose of forming an instant opinion for retiring person compulsorily in public interest. We hardly find any merit in this submission. 34.  The question relating to uncommunicated adverse entries has been the subject matter of several decisions municated of this Court. In Union of India vs.M.E. Reddy, AIR 1980 SC 563 = 1980 (1)SCR 736= (1980) 2 SCC 15 1979 Indlaw SC 187, it was laid down that uncommunicated adverse remarks can be relied upon while passing an order of compulsory retirement. But in two subsequent decisions, namely, Brij Mohan Singh Chopra vs. State of Punjab, AIR 1987 SC 948 = (1987) 2 SCC 188 = 1987 (2) SCR 583 1987 Indlaw SC 28735 and Baidyanath Mahapatra vs. State of Orissa, AIR 1989 SC 2218 = 1989 (3) SCR 803 = (1989) 4 SCC 664 1989 Indlaw SC 804, it was laid down that uncommunicated adverse entries could not be legally relied upon while making an order of compulsory retirement. It was also laid down in Baidyanath's case1989 Indlaw SC 804 (supra) that if a representation was pending against the adverse remarks, the adverse entries against which the representation is made could not be taken into consideration unless the representation itself was considered and disposed of. 35.  Both these decisions were considered by a Three- Judge Bench in Baikuntha Nath Das's case1992 Indlaw SC 1228 (supra) and were over-ruled and the following five principles were laid down:- \"\"(i) An order of compulsory retirement is not a punishment. It implies neither stigma nor any suggestion of misbehaviour. (ii) The order has to be passed by the government on forming the opinion that it is in the public interest to retire a government servant compulsorily. The order is passed on the subjective satisfaction of the government. (iii) Principles of natural place in the cont ext of an order of compulsory justice have no judicial retirement. This does not mean that scrutiny is excluded altogether. High Court or this Court would not examine the While the may matter as an appellate court, they interfere if they are satisfied that the order is passed (a) malafide or (b)that it is based on no evidence or (c)that it is arbitrary - in the sense that no reasonable II person would form the requisite opinion on the given material; in short, if it is found to be a perverse order. (iv) The government (or the Review Committee, as the case may be) shall have to consider the entire record of service before taking a decision in the matter - of course attaching more importance to record of and performance during the later years. The record to be so considered would naturally include the entries in the confidential records/character rolls, both favourable and adverse. If a government servant is promoted to a higher post notwithstanding the adverse remarks, such remarks lose their sting, more so, if the promotion is based upon merit (selection) and not upon seniority. (v) An order of compulsory retirement is not liable to be quashed by a Court merely on the showing that while passing it uncommunicated adverse remarks were also taken into consideration. That circumstance by itself cannot be a basis for interference\"\". 36.  This decision has since been followed in Posts and Telegraphs Board vs. C.S.N., 1992 (2) SCR 338 = (1992) 2 SCC 317 : AIR 1992 SC 1368 1992 Indlaw SC 362, Government Harijan and Tribal Welfare Department Bhubaneswar vs. Nityananda Pati, AIR 1993 SC 383= (1993) Suppl. 2 SCC 391 1992 Indlaw SC 1205 and Union of India vs. V.P. Seth, AIR 1994 SC 1261 1994 Indlaw SC 2170 and considered by this Court in M.S. Bindra vs. Union of India and Ors., JT 1998 (6) SC 34 = 1998 (5)Scale 45 = (1998)7 SCC 310 1998 Indlaw SC 611 and again in The State of Gujarat and Anr. vs. Suryakant Chunilal Shah, JT 1998 (8) SC 326 = 1998 (6) Scale 393 1998 Indlaw SC 898. 37.  The fifth principle in Baikuntha Nath Das's case1992 Indlaw SC 1228 (supra), which has already been extracted above, itself contemplates that the mere circumstance that uncommunicated adverse remarks were taken into consideration would not constitute a basis for interference with an order of compulsory retirement. In para 45 and 46 of the Judgment, the learned Judges observed as under:- \"\"We may not be understood as saying either that adverse remarks need not be communicated or that the representations, if any, submitted by the government servant (against such remarks) need not be considered or disposed of. The adverse remarks ought to be communicated in the normal course, as required by the rules/orders in that behalf. Any representation made against them would and should also be dealt with i n the normal course, with reasonable promptitude. All that we are saying is that the action under F.R.56 (j ) (or the rule corresponding to it) need not await the disposal or final disposal of such representation or representations, as the case may be. In some cases, it may happen that some adverse remarks of the recent years are not communicated or if communicated, they represent action received in that behalf are pending c onside ration. On this account alone, the action under F.R. 56(j) need not be held back. There is no reason to presume that the Review Committee or the government, if it chooses to take into consideration such uncommunicated remarks, would not be conscious or cognizant of the fact that they are not communicated to the government servant and that he was not given an opportunity to explain or rebut the same. Similarly, if any representation made by the government servant is there, it shall also be taken into consideration. We may reiterate that not only the Review Committee is generally composed of high and responsible officers, the power is vested in government alone and not in a minor official. It is unlikely that adverse remarks over a number of years remain uncommunicated and yet they are made the primary basis of action. Such an unlikely situation, if indeed present, may be indicative of malice in law. We may mention in this connection that the remedy provided by Article 226 of the Constitution is no less an important safe guard. Even with its well known constraints, the remedy is an effective check against mala fide, perverse or arbitrary action\"\". (Emphasis supplied) 38.  These observations indicate that the adverse remarks if recorded in an employee's character roll in the \"\"normal course\"\", ought to be communicated to him and if any representation is made against those remarks, the said representation should be disposed of in the \"\"normal course\"\" but with promptitude. It was further emphasised that the pendency of representation against the adverse remarks or non-disposal of that representation would, however, not prevent the action being taken for compulsory retirement of the employee even on the basis of that entry either under F.R.56(j) or any provision equivalent thereto. 39.  In the instant case, the adverse remarks, namely, the remarks for the years 1991-92, 1992-93 and 1993-94 were not recorded in the \"\"normal course\"\" but were recorded \"\"at one go\"\" and that too when the Standing Committee of the High Court had already formed an opinion to compulsorily retire the appellant from service. The representation made against these remarks was not dealt with promptitude but was disposed of by the High Court after a long period of one year. These remarks which were recorded in the character roll of the appellant \"\"at one go\"\" and were communicated to the appellant on 29.11.1996, were considered by the Full Court on 30.11.96 which approved the proposal of compulsorily retiring the appellant from service. The appellant had been categorised as \"\"B\"\" plus in 1990 by Mr. Justice B.K. Roy. There was no categorisation for the next three years and when the action for compulsory retirement of the appellant was initiated by the High Court on the ground that he had granted anticipatory bail in a case under Section 307 IPC, categorisation for 1991-92, 1992-93 and 1993-94 was done \"\"at one go\"\" which is unreasonable and not fair. Moreover, the compulsory retirement was ordered in 1996.What was the appellant's categorisation for 1994-95 and 1995-96 is not indicated in the original service record placed before us. It is on account of these abnormalities coupled with other strange circumstances of this case that we are of the opinion that the categorisation of the appellant as a \"\"C\"\" class officer for the years 1991-92, 1992-93 and 1993-94 could not have been legally taken into consideration. If these remarks are excluded, principle (iii) laid down in Baikuntha Nath Das's case 1992 Indlaw SC 1228(supra) becomes applicable immediately and the impugned action of compulsorily retiring the appellant from service cannot but be termed as arbitrary in the sense that no reasonable person could have come to the conclusion that the appellant had outlived his utility as a Judicial Officer and had become a dead wood which had to be chopped of. 40.  For the reasons stated above, the appeal is allowed. The judgment and order dated 22.7.1998 passed by the High Court is set aside. The Writ Petition filed by the appellant is allowed and the order of compulsory retirement dated 02.08.1997, passed by the State Government, is quashed with all consequential benefits to the appellant. There will be no order as to costs. Appeal allowed\"\n",
      "\n"
     ]
    }
   ],
   "source": [
    "with open(\"../All_Data/Generated_Data/all_input_docs_one_per_line.csv\", \"r\") as all_documents_per_line:\n",
    "    print(all_documents_per_line.readline())"
   ]
  },
  {
   "cell_type": "markdown",
   "metadata": {},
   "source": [
    "All case file documents have been made into one liners stored in all_input_docs_one_per_line.csv"
   ]
  },
  {
   "cell_type": "code",
   "execution_count": 25,
   "metadata": {},
   "outputs": [
    {
     "data": {
      "text/html": [
       "<div>\n",
       "<style scoped>\n",
       "    .dataframe tbody tr th:only-of-type {\n",
       "        vertical-align: middle;\n",
       "    }\n",
       "\n",
       "    .dataframe tbody tr th {\n",
       "        vertical-align: top;\n",
       "    }\n",
       "\n",
       "    .dataframe thead th {\n",
       "        text-align: right;\n",
       "    }\n",
       "</style>\n",
       "<table border=\"1\" class=\"dataframe\">\n",
       "  <thead>\n",
       "    <tr style=\"text-align: right;\">\n",
       "      <th></th>\n",
       "      <th>Query_Name</th>\n",
       "      <th>Document_Name</th>\n",
       "      <th>Relevance</th>\n",
       "    </tr>\n",
       "  </thead>\n",
       "  <tbody>\n",
       "    <tr>\n",
       "      <th>0</th>\n",
       "      <td>AILA_Q1</td>\n",
       "      <td>C168</td>\n",
       "      <td>0</td>\n",
       "    </tr>\n",
       "    <tr>\n",
       "      <th>1</th>\n",
       "      <td>AILA_Q1</td>\n",
       "      <td>C382</td>\n",
       "      <td>0</td>\n",
       "    </tr>\n",
       "    <tr>\n",
       "      <th>2</th>\n",
       "      <td>AILA_Q1</td>\n",
       "      <td>C428</td>\n",
       "      <td>0</td>\n",
       "    </tr>\n",
       "    <tr>\n",
       "      <th>3</th>\n",
       "      <td>AILA_Q1</td>\n",
       "      <td>C949</td>\n",
       "      <td>0</td>\n",
       "    </tr>\n",
       "    <tr>\n",
       "      <th>4</th>\n",
       "      <td>AILA_Q1</td>\n",
       "      <td>C2303</td>\n",
       "      <td>0</td>\n",
       "    </tr>\n",
       "  </tbody>\n",
       "</table>\n",
       "</div>"
      ],
      "text/plain": [
       "  Query_Name Document_Name  Relevance\n",
       "0    AILA_Q1          C168          0\n",
       "1    AILA_Q1          C382          0\n",
       "2    AILA_Q1          C428          0\n",
       "3    AILA_Q1          C949          0\n",
       "4    AILA_Q1         C2303          0"
      ]
     },
     "execution_count": 25,
     "metadata": {},
     "output_type": "execute_result"
    }
   ],
   "source": [
    "query_document_relevance_pairing = pd.read_csv('../All_Data/AILA_2019_dataset/relevance_judgments_priorcases.txt', delimiter = \" \", header = None)\n",
    "query_document_relevance_pairing.columns = [\"Query_Name\", \"Q0\", \"Document_Name\" ,\"Relevance\"]\n",
    "query_document_relevance_pairing = query_document_relevance_pairing.drop(columns=[\"Q0\"])\n",
    "query_document_relevance_pairing.head()"
   ]
  },
  {
   "cell_type": "markdown",
   "metadata": {},
   "source": [
    "query_document_relevance_pairing contains the query name, document name, and whether they are related or not."
   ]
  },
  {
   "cell_type": "code",
   "execution_count": 26,
   "metadata": {},
   "outputs": [
    {
     "data": {
      "text/html": [
       "<div>\n",
       "<style scoped>\n",
       "    .dataframe tbody tr th:only-of-type {\n",
       "        vertical-align: middle;\n",
       "    }\n",
       "\n",
       "    .dataframe tbody tr th {\n",
       "        vertical-align: top;\n",
       "    }\n",
       "\n",
       "    .dataframe thead th {\n",
       "        text-align: right;\n",
       "    }\n",
       "</style>\n",
       "<table border=\"1\" class=\"dataframe\">\n",
       "  <thead>\n",
       "    <tr style=\"text-align: right;\">\n",
       "      <th></th>\n",
       "      <th>Document_Text</th>\n",
       "    </tr>\n",
       "  </thead>\n",
       "  <tbody>\n",
       "    <tr>\n",
       "      <th>0</th>\n",
       "      <td>Madan Mohan Choudhary v State of Bihar and Oth...</td>\n",
       "    </tr>\n",
       "    <tr>\n",
       "      <th>1</th>\n",
       "      <td>Simon and another v State of Karnataka Supreme...</td>\n",
       "    </tr>\n",
       "    <tr>\n",
       "      <th>2</th>\n",
       "      <td>Mahesh Kumar Bhawsinghka v State of Delhi Supr...</td>\n",
       "    </tr>\n",
       "    <tr>\n",
       "      <th>3</th>\n",
       "      <td>Union of India Others v Tushar Ranjan Mohanty ...</td>\n",
       "    </tr>\n",
       "    <tr>\n",
       "      <th>4</th>\n",
       "      <td>Union of India v Sher Singh and Others Supreme...</td>\n",
       "    </tr>\n",
       "  </tbody>\n",
       "</table>\n",
       "</div>"
      ],
      "text/plain": [
       "                                       Document_Text\n",
       "0  Madan Mohan Choudhary v State of Bihar and Oth...\n",
       "1  Simon and another v State of Karnataka Supreme...\n",
       "2  Mahesh Kumar Bhawsinghka v State of Delhi Supr...\n",
       "3  Union of India Others v Tushar Ranjan Mohanty ...\n",
       "4  Union of India v Sher Singh and Others Supreme..."
      ]
     },
     "execution_count": 26,
     "metadata": {},
     "output_type": "execute_result"
    }
   ],
   "source": [
    "documents_df = pd.read_csv('../All_Data/Generated_Data/all_input_docs_one_per_line.csv', header = None)\n",
    "documents_df.columns = [\"Document_Text\"]\n",
    "documents_df.head()"
   ]
  },
  {
   "cell_type": "code",
   "execution_count": 27,
   "metadata": {},
   "outputs": [
    {
     "data": {
      "text/html": [
       "<div>\n",
       "<style scoped>\n",
       "    .dataframe tbody tr th:only-of-type {\n",
       "        vertical-align: middle;\n",
       "    }\n",
       "\n",
       "    .dataframe tbody tr th {\n",
       "        vertical-align: top;\n",
       "    }\n",
       "\n",
       "    .dataframe thead th {\n",
       "        text-align: right;\n",
       "    }\n",
       "</style>\n",
       "<table border=\"1\" class=\"dataframe\">\n",
       "  <thead>\n",
       "    <tr style=\"text-align: right;\">\n",
       "      <th></th>\n",
       "      <th>Document_Name</th>\n",
       "      <th>Document_Text</th>\n",
       "    </tr>\n",
       "  </thead>\n",
       "  <tbody>\n",
       "    <tr>\n",
       "      <th>0</th>\n",
       "      <td>C982.txt</td>\n",
       "      <td>Madan Mohan Choudhary v State of Bihar and Oth...</td>\n",
       "    </tr>\n",
       "    <tr>\n",
       "      <th>1</th>\n",
       "      <td>C983.txt</td>\n",
       "      <td>Simon and another v State of Karnataka Supreme...</td>\n",
       "    </tr>\n",
       "    <tr>\n",
       "      <th>2</th>\n",
       "      <td>C984.txt</td>\n",
       "      <td>Mahesh Kumar Bhawsinghka v State of Delhi Supr...</td>\n",
       "    </tr>\n",
       "    <tr>\n",
       "      <th>3</th>\n",
       "      <td>C985.txt</td>\n",
       "      <td>Union of India Others v Tushar Ranjan Mohanty ...</td>\n",
       "    </tr>\n",
       "    <tr>\n",
       "      <th>4</th>\n",
       "      <td>C986.txt</td>\n",
       "      <td>Union of India v Sher Singh and Others Supreme...</td>\n",
       "    </tr>\n",
       "  </tbody>\n",
       "</table>\n",
       "</div>"
      ],
      "text/plain": [
       "  Document_Name                                      Document_Text\n",
       "0      C982.txt  Madan Mohan Choudhary v State of Bihar and Oth...\n",
       "1      C983.txt  Simon and another v State of Karnataka Supreme...\n",
       "2      C984.txt  Mahesh Kumar Bhawsinghka v State of Delhi Supr...\n",
       "3      C985.txt  Union of India Others v Tushar Ranjan Mohanty ...\n",
       "4      C986.txt  Union of India v Sher Singh and Others Supreme..."
      ]
     },
     "execution_count": 27,
     "metadata": {},
     "output_type": "execute_result"
    }
   ],
   "source": [
    "documents_df = pd.concat([filenames_df, documents_df], axis = 1)\n",
    "documents_df.head()"
   ]
  },
  {
   "cell_type": "code",
   "execution_count": 29,
   "metadata": {},
   "outputs": [
    {
     "name": "stdout",
     "output_type": "stream",
     "text": [
      "len(documents_df):  2914 \n",
      "documents_df.shape:  (2914, 2)\n"
     ]
    }
   ],
   "source": [
    "print(\"len(documents_df): \", len(documents_df), \"\\ndocuments_df.shape: \", documents_df.shape)"
   ]
  },
  {
   "cell_type": "markdown",
   "metadata": {},
   "source": [
    "Now we have both document names and text within the document consolidated within documents_df"
   ]
  },
  {
   "cell_type": "code",
   "execution_count": 32,
   "metadata": {},
   "outputs": [
    {
     "data": {
      "text/html": [
       "<div>\n",
       "<style scoped>\n",
       "    .dataframe tbody tr th:only-of-type {\n",
       "        vertical-align: middle;\n",
       "    }\n",
       "\n",
       "    .dataframe tbody tr th {\n",
       "        vertical-align: top;\n",
       "    }\n",
       "\n",
       "    .dataframe thead th {\n",
       "        text-align: right;\n",
       "    }\n",
       "</style>\n",
       "<table border=\"1\" class=\"dataframe\">\n",
       "  <thead>\n",
       "    <tr style=\"text-align: right;\">\n",
       "      <th></th>\n",
       "      <th>Query_Name</th>\n",
       "      <th>NAN</th>\n",
       "      <th>Query_Text</th>\n",
       "    </tr>\n",
       "  </thead>\n",
       "  <tbody>\n",
       "    <tr>\n",
       "      <th>0</th>\n",
       "      <td>AILA_Q1</td>\n",
       "      <td>NaN</td>\n",
       "      <td>The appellant on February 9, 1961 was appointe...</td>\n",
       "    </tr>\n",
       "    <tr>\n",
       "      <th>1</th>\n",
       "      <td>AILA_Q2</td>\n",
       "      <td>NaN</td>\n",
       "      <td>The appellant before us was examined as prime ...</td>\n",
       "    </tr>\n",
       "    <tr>\n",
       "      <th>2</th>\n",
       "      <td>AILA_Q3</td>\n",
       "      <td>NaN</td>\n",
       "      <td>This appeal arises from the judgment of the le...</td>\n",
       "    </tr>\n",
       "    <tr>\n",
       "      <th>3</th>\n",
       "      <td>AILA_Q4</td>\n",
       "      <td>NaN</td>\n",
       "      <td>The Petitioner was married to the Respondent N...</td>\n",
       "    </tr>\n",
       "    <tr>\n",
       "      <th>4</th>\n",
       "      <td>AILA_Q5</td>\n",
       "      <td>NaN</td>\n",
       "      <td>This appeal is preferred against the judgment ...</td>\n",
       "    </tr>\n",
       "  </tbody>\n",
       "</table>\n",
       "</div>"
      ],
      "text/plain": [
       "  Query_Name  NAN                                         Query_Text\n",
       "0    AILA_Q1  NaN  The appellant on February 9, 1961 was appointe...\n",
       "1    AILA_Q2  NaN  The appellant before us was examined as prime ...\n",
       "2    AILA_Q3  NaN  This appeal arises from the judgment of the le...\n",
       "3    AILA_Q4  NaN  The Petitioner was married to the Respondent N...\n",
       "4    AILA_Q5  NaN  This appeal is preferred against the judgment ..."
      ]
     },
     "execution_count": 32,
     "metadata": {},
     "output_type": "execute_result"
    }
   ],
   "source": [
    "queries_df = pd.read_csv(\"../All_Data/AILA_2019_dataset/Query_doc.txt\", delimiter = \"|\", header=None)\n",
    "queries_df.columns = [\"Query_Name\",\"NAN\", \"Query_Text\"]\n",
    "queries_df.head()"
   ]
  },
  {
   "cell_type": "code",
   "execution_count": 33,
   "metadata": {},
   "outputs": [
    {
     "data": {
      "text/html": [
       "<div>\n",
       "<style scoped>\n",
       "    .dataframe tbody tr th:only-of-type {\n",
       "        vertical-align: middle;\n",
       "    }\n",
       "\n",
       "    .dataframe tbody tr th {\n",
       "        vertical-align: top;\n",
       "    }\n",
       "\n",
       "    .dataframe thead th {\n",
       "        text-align: right;\n",
       "    }\n",
       "</style>\n",
       "<table border=\"1\" class=\"dataframe\">\n",
       "  <thead>\n",
       "    <tr style=\"text-align: right;\">\n",
       "      <th></th>\n",
       "      <th>Query_Name</th>\n",
       "      <th>Query_Text</th>\n",
       "    </tr>\n",
       "  </thead>\n",
       "  <tbody>\n",
       "    <tr>\n",
       "      <th>0</th>\n",
       "      <td>AILA_Q1</td>\n",
       "      <td>The appellant on February 9, 1961 was appointe...</td>\n",
       "    </tr>\n",
       "    <tr>\n",
       "      <th>1</th>\n",
       "      <td>AILA_Q2</td>\n",
       "      <td>The appellant before us was examined as prime ...</td>\n",
       "    </tr>\n",
       "    <tr>\n",
       "      <th>2</th>\n",
       "      <td>AILA_Q3</td>\n",
       "      <td>This appeal arises from the judgment of the le...</td>\n",
       "    </tr>\n",
       "    <tr>\n",
       "      <th>3</th>\n",
       "      <td>AILA_Q4</td>\n",
       "      <td>The Petitioner was married to the Respondent N...</td>\n",
       "    </tr>\n",
       "    <tr>\n",
       "      <th>4</th>\n",
       "      <td>AILA_Q5</td>\n",
       "      <td>This appeal is preferred against the judgment ...</td>\n",
       "    </tr>\n",
       "  </tbody>\n",
       "</table>\n",
       "</div>"
      ],
      "text/plain": [
       "  Query_Name                                         Query_Text\n",
       "0    AILA_Q1  The appellant on February 9, 1961 was appointe...\n",
       "1    AILA_Q2  The appellant before us was examined as prime ...\n",
       "2    AILA_Q3  This appeal arises from the judgment of the le...\n",
       "3    AILA_Q4  The Petitioner was married to the Respondent N...\n",
       "4    AILA_Q5  This appeal is preferred against the judgment ..."
      ]
     },
     "execution_count": 33,
     "metadata": {},
     "output_type": "execute_result"
    }
   ],
   "source": [
    "queries_df=queries_df.drop(columns=[\"NAN\"])\n",
    "queries_df.head()"
   ]
  },
  {
   "cell_type": "code",
   "execution_count": 34,
   "metadata": {},
   "outputs": [
    {
     "name": "stdout",
     "output_type": "stream",
     "text": [
      "len(queries_df):  50 \n",
      "queries_df.shape:  (50, 2)\n"
     ]
    }
   ],
   "source": [
    "print(\"len(queries_df): \", len(queries_df), \"\\nqueries_df.shape: \", queries_df.shape)"
   ]
  },
  {
   "cell_type": "markdown",
   "metadata": {},
   "source": [
    "Now we have both query names and text within the query consolidated within queries_df"
   ]
  },
  {
   "cell_type": "code",
   "execution_count": 30,
   "metadata": {},
   "outputs": [
    {
     "name": "stdout",
     "output_type": "stream",
     "text": [
      "Defaulting to user installation because normal site-packages is not writeable\n",
      "Collecting nltk\n",
      "  Downloading nltk-3.8.1-py3-none-any.whl (1.5 MB)\n",
      "\u001b[2K     \u001b[90m━━━━━━━━━━━━━━━━━━━━━━━━━━━━━━━━━━━━━━━━\u001b[0m \u001b[32m1.5/1.5 MB\u001b[0m \u001b[31m840.6 kB/s\u001b[0m eta \u001b[36m0:00:00\u001b[0m00:01\u001b[0m00:01\u001b[0m\n",
      "\u001b[?25hCollecting regex>=2021.8.3\n",
      "  Downloading regex-2023.10.3-cp310-cp310-manylinux_2_17_x86_64.manylinux2014_x86_64.whl (773 kB)\n",
      "\u001b[2K     \u001b[90m━━━━━━━━━━━━━━━━━━━━━━━━━━━━━━━━━━━━━\u001b[0m \u001b[32m773.9/773.9 KB\u001b[0m \u001b[31m860.0 kB/s\u001b[0m eta \u001b[36m0:00:00\u001b[0m00:01\u001b[0m00:01\u001b[0m\n",
      "\u001b[?25hCollecting tqdm\n",
      "  Downloading tqdm-4.66.1-py3-none-any.whl (78 kB)\n",
      "\u001b[2K     \u001b[90m━━━━━━━━━━━━━━━━━━━━━━━━━━━━━━━━━━━━━━━━\u001b[0m \u001b[32m78.3/78.3 KB\u001b[0m \u001b[31m2.3 MB/s\u001b[0m eta \u001b[36m0:00:00\u001b[0ma \u001b[36m0:00:01\u001b[0m\n",
      "\u001b[?25hCollecting joblib\n",
      "  Downloading joblib-1.3.2-py3-none-any.whl (302 kB)\n",
      "\u001b[2K     \u001b[90m━━━━━━━━━━━━━━━━━━━━━━━━━━━━━━━━━━━━━\u001b[0m \u001b[32m302.2/302.2 KB\u001b[0m \u001b[31m466.4 kB/s\u001b[0m eta \u001b[36m0:00:00\u001b[0ma \u001b[36m0:00:01\u001b[0m\n",
      "\u001b[?25hRequirement already satisfied: click in /usr/lib/python3/dist-packages (from nltk) (8.0.3)\n",
      "Installing collected packages: tqdm, regex, joblib, nltk\n",
      "Successfully installed joblib-1.3.2 nltk-3.8.1 regex-2023.10.3 tqdm-4.66.1\n",
      "Note: you may need to restart the kernel to use updated packages.\n"
     ]
    }
   ],
   "source": [
    "%pip install nltk"
   ]
  },
  {
   "cell_type": "code",
   "execution_count": 41,
   "metadata": {},
   "outputs": [
    {
     "name": "stderr",
     "output_type": "stream",
     "text": [
      "[nltk_data] Downloading package stopwords to /home/akheel/nltk_data...\n",
      "[nltk_data]   Package stopwords is already up-to-date!\n",
      "[nltk_data] Downloading package wordnet to /home/akheel/nltk_data...\n"
     ]
    }
   ],
   "source": [
    "import re\n",
    "import nltk\n",
    "\n",
    "nltk.download('stopwords')\n",
    "nltk.download('wordnet')\n",
    "\n",
    "\n",
    "def utils_preprocess_text(text, flg_stemm=True, flg_lemm =True, lst_stopwords=None):\n",
    "    # initializing\n",
    "    lst_stopwords = nltk.corpus.stopwords.words(\"english\")\n",
    "    ps = nltk.stem.porter.PorterStemmer()\n",
    "    lem = nltk.stem.wordnet.WordNetLemmatizer()\n",
    "    \n",
    "    # lowercase and removing punctuations and numericals\n",
    "    text = re.sub(r'[^\\w\\s]', '', str(text).lower().strip())\n",
    "    \n",
    "    # tokenizing\n",
    "    lst_text = text.split()\n",
    "    \n",
    "    #remove stopwords\n",
    "    lst_text = [word for word in lst_text if word not in lst_stopwords]\n",
    "        \n",
    "    #stemming\n",
    "    if flg_stemm == True:\n",
    "        ps = nltk.stem.porter.PorterStemmer()\n",
    "        lst_text = [ps.stem(word) for word in lst_text]\n",
    "        \n",
    "    #Lemmentization\n",
    "    if flg_lemm == True:\n",
    "        lem = nltk.stem.wordnet.WordNetLemmatizer()\n",
    "        lst_text = [lem.lemmatize(word) for word in lst_text]\n",
    "        \n",
    "    # concatenate tokens to make string\n",
    "    text = \" \".join(lst_text)\n",
    "    return text"
   ]
  },
  {
   "cell_type": "code",
   "execution_count": 42,
   "metadata": {},
   "outputs": [
    {
     "data": {
      "text/html": [
       "<div>\n",
       "<style scoped>\n",
       "    .dataframe tbody tr th:only-of-type {\n",
       "        vertical-align: middle;\n",
       "    }\n",
       "\n",
       "    .dataframe tbody tr th {\n",
       "        vertical-align: top;\n",
       "    }\n",
       "\n",
       "    .dataframe thead th {\n",
       "        text-align: right;\n",
       "    }\n",
       "</style>\n",
       "<table border=\"1\" class=\"dataframe\">\n",
       "  <thead>\n",
       "    <tr style=\"text-align: right;\">\n",
       "      <th></th>\n",
       "      <th>Document_Name</th>\n",
       "      <th>Document_Text</th>\n",
       "      <th>preprocessed_text</th>\n",
       "    </tr>\n",
       "  </thead>\n",
       "  <tbody>\n",
       "    <tr>\n",
       "      <th>0</th>\n",
       "      <td>C982.txt</td>\n",
       "      <td>Madan Mohan Choudhary v State of Bihar and Oth...</td>\n",
       "      <td>madan mohan choudhary v state bihar others sup...</td>\n",
       "    </tr>\n",
       "    <tr>\n",
       "      <th>1</th>\n",
       "      <td>C983.txt</td>\n",
       "      <td>Simon and another v State of Karnataka Supreme...</td>\n",
       "      <td>simon another v state karnataka supreme court ...</td>\n",
       "    </tr>\n",
       "    <tr>\n",
       "      <th>2</th>\n",
       "      <td>C984.txt</td>\n",
       "      <td>Mahesh Kumar Bhawsinghka v State of Delhi Supr...</td>\n",
       "      <td>mahesh kumar bhawsinghka v state delhi supreme...</td>\n",
       "    </tr>\n",
       "    <tr>\n",
       "      <th>3</th>\n",
       "      <td>C985.txt</td>\n",
       "      <td>Union of India Others v Tushar Ranjan Mohanty ...</td>\n",
       "      <td>union india others v tushar ranjan mohanty oth...</td>\n",
       "    </tr>\n",
       "    <tr>\n",
       "      <th>4</th>\n",
       "      <td>C986.txt</td>\n",
       "      <td>Union of India v Sher Singh and Others Supreme...</td>\n",
       "      <td>union india v sher singh others supreme court ...</td>\n",
       "    </tr>\n",
       "  </tbody>\n",
       "</table>\n",
       "</div>"
      ],
      "text/plain": [
       "  Document_Name                                      Document_Text  \\\n",
       "0      C982.txt  Madan Mohan Choudhary v State of Bihar and Oth...   \n",
       "1      C983.txt  Simon and another v State of Karnataka Supreme...   \n",
       "2      C984.txt  Mahesh Kumar Bhawsinghka v State of Delhi Supr...   \n",
       "3      C985.txt  Union of India Others v Tushar Ranjan Mohanty ...   \n",
       "4      C986.txt  Union of India v Sher Singh and Others Supreme...   \n",
       "\n",
       "                                   preprocessed_text  \n",
       "0  madan mohan choudhary v state bihar others sup...  \n",
       "1  simon another v state karnataka supreme court ...  \n",
       "2  mahesh kumar bhawsinghka v state delhi supreme...  \n",
       "3  union india others v tushar ranjan mohanty oth...  \n",
       "4  union india v sher singh others supreme court ...  "
      ]
     },
     "execution_count": 42,
     "metadata": {},
     "output_type": "execute_result"
    }
   ],
   "source": [
    "documents_df['preprocessed_text'] = documents_df['Document_Text'].apply(lambda x: utils_preprocess_text(x, flg_stemm = False, flg_lemm=True))\n",
    "documents_df.head()"
   ]
  },
  {
   "cell_type": "code",
   "execution_count": 43,
   "metadata": {},
   "outputs": [
    {
     "data": {
      "text/html": [
       "<div>\n",
       "<style scoped>\n",
       "    .dataframe tbody tr th:only-of-type {\n",
       "        vertical-align: middle;\n",
       "    }\n",
       "\n",
       "    .dataframe tbody tr th {\n",
       "        vertical-align: top;\n",
       "    }\n",
       "\n",
       "    .dataframe thead th {\n",
       "        text-align: right;\n",
       "    }\n",
       "</style>\n",
       "<table border=\"1\" class=\"dataframe\">\n",
       "  <thead>\n",
       "    <tr style=\"text-align: right;\">\n",
       "      <th></th>\n",
       "      <th>Query_Name</th>\n",
       "      <th>Query_Text</th>\n",
       "      <th>preprocessed_text</th>\n",
       "    </tr>\n",
       "  </thead>\n",
       "  <tbody>\n",
       "    <tr>\n",
       "      <th>0</th>\n",
       "      <td>AILA_Q1</td>\n",
       "      <td>The appellant on February 9, 1961 was appointe...</td>\n",
       "      <td>appellant february 9 1961 appointed officer gr...</td>\n",
       "    </tr>\n",
       "    <tr>\n",
       "      <th>1</th>\n",
       "      <td>AILA_Q2</td>\n",
       "      <td>The appellant before us was examined as prime ...</td>\n",
       "      <td>appellant u examined prime witness trial tr fi...</td>\n",
       "    </tr>\n",
       "    <tr>\n",
       "      <th>2</th>\n",
       "      <td>AILA_Q3</td>\n",
       "      <td>This appeal arises from the judgment of the le...</td>\n",
       "      <td>appeal arises judgment learned single judge hi...</td>\n",
       "    </tr>\n",
       "    <tr>\n",
       "      <th>3</th>\n",
       "      <td>AILA_Q4</td>\n",
       "      <td>The Petitioner was married to the Respondent N...</td>\n",
       "      <td>petitioner married respondent no2 27th novembe...</td>\n",
       "    </tr>\n",
       "    <tr>\n",
       "      <th>4</th>\n",
       "      <td>AILA_Q5</td>\n",
       "      <td>This appeal is preferred against the judgment ...</td>\n",
       "      <td>appeal preferred judgment dated 1982011 passed...</td>\n",
       "    </tr>\n",
       "  </tbody>\n",
       "</table>\n",
       "</div>"
      ],
      "text/plain": [
       "  Query_Name                                         Query_Text  \\\n",
       "0    AILA_Q1  The appellant on February 9, 1961 was appointe...   \n",
       "1    AILA_Q2  The appellant before us was examined as prime ...   \n",
       "2    AILA_Q3  This appeal arises from the judgment of the le...   \n",
       "3    AILA_Q4  The Petitioner was married to the Respondent N...   \n",
       "4    AILA_Q5  This appeal is preferred against the judgment ...   \n",
       "\n",
       "                                   preprocessed_text  \n",
       "0  appellant february 9 1961 appointed officer gr...  \n",
       "1  appellant u examined prime witness trial tr fi...  \n",
       "2  appeal arises judgment learned single judge hi...  \n",
       "3  petitioner married respondent no2 27th novembe...  \n",
       "4  appeal preferred judgment dated 1982011 passed...  "
      ]
     },
     "execution_count": 43,
     "metadata": {},
     "output_type": "execute_result"
    }
   ],
   "source": [
    "queries_df['preprocessed_text'] = queries_df['Query_Text'].apply(lambda x: utils_preprocess_text(x, flg_stemm = False, flg_lemm=True))\n",
    "queries_df.head()"
   ]
  },
  {
   "cell_type": "markdown",
   "metadata": {},
   "source": [
    "Now we have all Document and Query Text Preprocessed, ready to be used by just splitting with \" \"."
   ]
  },
  {
   "cell_type": "code",
   "execution_count": 44,
   "metadata": {},
   "outputs": [
    {
     "name": "stdout",
     "output_type": "stream",
     "text": [
      "97623\n"
     ]
    }
   ],
   "source": [
    "vocabulary = set()\n",
    "for text in documents_df[\"preprocessed_text\"]: \n",
    "  vocabulary = vocabulary | set(text.split())\n",
    "\n",
    "vocabulary = list(vocabulary)\n",
    "print(len(vocabulary))"
   ]
  },
  {
   "cell_type": "code",
   "execution_count": null,
   "metadata": {},
   "outputs": [],
   "source": []
  }
 ],
 "metadata": {
  "kernelspec": {
   "display_name": "Python 3",
   "language": "python",
   "name": "python3"
  },
  "language_info": {
   "codemirror_mode": {
    "name": "ipython",
    "version": 3
   },
   "file_extension": ".py",
   "mimetype": "text/x-python",
   "name": "python",
   "nbconvert_exporter": "python",
   "pygments_lexer": "ipython3",
   "version": "3.10.12"
  },
  "orig_nbformat": 4
 },
 "nbformat": 4,
 "nbformat_minor": 2
}
